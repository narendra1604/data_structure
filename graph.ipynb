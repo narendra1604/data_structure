{
 "cells": [
  {
   "cell_type": "code",
   "execution_count": null,
   "metadata": {},
   "outputs": [],
   "source": [
    "Graph: it is a non-linear ds consisting of nodes and edges\n",
    "    tree all are graaph but graph all are not tree\n",
    "    graph contain multiple paths to traverse\n",
    "    g = (V, E)\n",
    "daily:\n",
    "    google maps\n",
    "    face book and linkedin\n",
    "    ecommerace\n",
    "    "
   ]
  },
  {
   "cell_type": "code",
   "execution_count": null,
   "metadata": {},
   "outputs": [],
   "source": [
    "undirected graph:\n",
    "    A graph in which all the edges are bidirectional\n",
    "ex: facebook\n",
    "\n",
    "Directed Graph:\n",
    "    a graph in which all the edges are uni-directional\n",
    "ex: Twitter"
   ]
  },
  {
   "cell_type": "code",
   "execution_count": null,
   "metadata": {},
   "outputs": [],
   "source": [
    "weighted Graph:\n",
    "    A graph in which all the edges are assigned with some weights/cost/value\n",
    "unweighted graph:\n",
    "    A graph where there is no value or weight associated with edges\n",
    "    "
   ]
  },
  {
   "cell_type": "code",
   "execution_count": null,
   "metadata": {},
   "outputs": [],
   "source": [
    "cyclic: if it contain  cycle then it cyclic else acyclic"
   ]
  },
  {
   "cell_type": "code",
   "execution_count": null,
   "metadata": {},
   "outputs": [],
   "source": [
    "strongly connected graph:\n",
    "    it is directed graph and cyclic]"
   ]
  },
  {
   "cell_type": "code",
   "execution_count": null,
   "metadata": {},
   "outputs": [],
   "source": [
    "degree of a node: no of edges connected to it\n",
    "\n",
    "indegree of a node = no of edges coming to that node\n",
    "\n",
    "outdegree of a node = no of edges going outside from that node"
   ]
  },
  {
   "cell_type": "code",
   "execution_count": null,
   "metadata": {},
   "outputs": [],
   "source": [
    "complete graph: All edges are connected together"
   ]
  },
  {
   "cell_type": "code",
   "execution_count": null,
   "metadata": {},
   "outputs": [],
   "source": [
    "graph representaion:\n",
    "    \n",
    "adjancency matrix: represents the connection b/w the nodes in matrix form\n",
    "1)create k*k matrix\n",
    "2) row and column represents the nodes of the graph\n",
    "3)if edge is presnt then store 1 otherwise store 0\n",
    "\n",
    "adjacency list:\n",
    "    list of adjacent nodes"
   ]
  },
  {
   "cell_type": "code",
   "execution_count": null,
   "metadata": {},
   "outputs": [],
   "source": [
    "Graph operations:\n",
    "    inserton\n",
    "    deletion\n",
    "    traversal\n",
    "    "
   ]
  },
  {
   "cell_type": "code",
   "execution_count": null,
   "metadata": {},
   "outputs": [],
   "source": [
    "insertion:\n",
    "    1)add node(x)\n",
    "    2)add edge(x, y)-->graph[x][y] = 1, graph[y][x] = 1"
   ]
  },
  {
   "cell_type": "code",
   "execution_count": 8,
   "metadata": {},
   "outputs": [
    {
     "name": "stdout",
     "output_type": "stream",
     "text": [
      "node is not present\n",
      "['A', 'B', 'C', 'D']\n",
      "[[0, 1, 1, 0], [1, 0, 1, 0], [1, 1, 0, 0], [0, 0, 0, 0]]\n",
      "0   1   1   0   \n",
      "1   0   1   0   \n",
      "1   1   0   0   \n",
      "0   0   0   0   \n"
     ]
    },
    {
     "ename": "",
     "evalue": "",
     "output_type": "error",
     "traceback": [
      "\u001b[1;31mThe Kernel crashed while executing code in the current cell or a previous cell. \n",
      "\u001b[1;31mPlease review the code in the cell(s) to identify a possible cause of the failure. \n",
      "\u001b[1;31mClick <a href='https://aka.ms/vscodeJupyterKernelCrash'>here</a> for more info. \n",
      "\u001b[1;31mView Jupyter <a href='command:jupyter.viewOutput'>log</a> for further details."
     ]
    }
   ],
   "source": [
    "def add_node(v):\n",
    "    \n",
    "    if v in nodes:\n",
    "        global node_count\n",
    "        print(\"node is already present in the graph\")\n",
    "    else:\n",
    "        node_count = node_count + 1\n",
    "        nodes.append(v)#column\n",
    "        for n in graph:\n",
    "            n.append(0)\n",
    "        temp = []#row add\n",
    "        for i in range(node_count):\n",
    "            temp.append(0)\n",
    "        graph.append(temp)\n",
    "def edge(v1, v2):\n",
    "    if v1 not in nodes:\n",
    "        print(\"node is not present\")\n",
    "    elif v2 not in nodes:\n",
    "        print(\"v2 is not present\")\n",
    "    else:\n",
    "        index1 = nodes.index(v1)\n",
    "        index2 = nodes.index(v2)\n",
    "        graph[index1][index2] = 1\n",
    "        graph[index2][index1] = 1\n",
    "def graph_():\n",
    "    for i in range(node_count):\n",
    "        for j in range(node_count):\n",
    "            print(format(graph[i][j], \"<3\"), end=\" \")\n",
    "        print()\n",
    "def delete_node(v):\n",
    "    global node_count\n",
    "    if v not in nodes:\n",
    "        print(\"v is not present\")\n",
    "    else:\n",
    "        index1 = nodes.index(v)\n",
    "        node_count = node_count - 1\n",
    "        nodes.remove(v)\n",
    "        graph.pop(index1)#row\n",
    "        for i in graph:#column\n",
    "            i.pop(index1)\n",
    "def delete_edge(v1, v2):\n",
    "    if v1 not in nodes:\n",
    "        print(\"node is not present\")\n",
    "    elif v2 not in nodes:\n",
    "        print(\"v2 is not present\")\n",
    "    else:\n",
    "        index1 = nodes.index(v1)\n",
    "        index2 = nodes.index(v2)\n",
    "        graph[index1][index2] = 0\n",
    "        graph[index1][index1] = 0\n",
    "        \n",
    "def DFS(node, visited, graph):\n",
    "    if node not in graph:\n",
    "        print(\"node is not present\")\n",
    "        return\n",
    "    if node not in visited:\n",
    "        print(node)\n",
    "        visited.add(node)\n",
    "        for i in graph[node]:\n",
    "            DFS(i, visited, graph)\n",
    "    \n",
    "    \n",
    "\n",
    "    \n",
    "            \n",
    "            \n",
    "    \n",
    "visited = set()           \n",
    "nodes = []\n",
    "graph = []\n",
    "\n",
    "node_count = 0\n",
    "\n",
    "\n",
    "add_node(\"A\")\n",
    "add_node(\"B\")\n",
    "add_node(\"C\")\n",
    "add_node(\"D\")\n",
    "edge(\"A\", \"B\")\n",
    "edge(\"B\", \"C\")\n",
    "edge(\"C\", \"A\")\n",
    "DFS(\"A\", visited, graph)\n",
    "# delete_node(\"A\")\n",
    "# delete_edge(\"B\", \"C\")\n",
    "print(nodes)\n",
    "print(graph)\n",
    "graph_()\n",
    "\n",
    "\n",
    "\n"
   ]
  },
  {
   "cell_type": "code",
   "execution_count": null,
   "metadata": {},
   "outputs": [],
   "source": [
    "Graph Traversal Algorithm:\n",
    "    DFS\n",
    "    BFS"
   ]
  },
  {
   "cell_type": "code",
   "execution_count": null,
   "metadata": {},
   "outputs": [],
   "source": [
    "DFS(depth first search): it useses the ideea of back tracking(search for the every possible solution to solve the problem)\n",
    "    first visit the starting node as a current node``\n",
    "    visit adjacent nodes of the current nodes\n",
    "    follow step2 until we reach dead end\n",
    "    if unvisited nodes are present in the graph then back track take recent  \n",
    "Stack ds are used in DFS Algorithm\n",
    "    \n",
    "    \n"
   ]
  },
  {
   "cell_type": "code",
   "execution_count": null,
   "metadata": {},
   "outputs": [],
   "source": [
    "BFS: it uses queue\n",
    "first visit the starting node as a current node\n",
    "and then visit the all adjacent nodes\n",
    "then the current node will changes\n",
    "like that it will visit all the adjacent nodes \n",
    "\n"
   ]
  }
 ],
 "metadata": {
  "kernelspec": {
   "display_name": "Python 3",
   "language": "python",
   "name": "python3"
  },
  "language_info": {
   "codemirror_mode": {
    "name": "ipython",
    "version": 3
   },
   "file_extension": ".py",
   "mimetype": "text/x-python",
   "name": "python",
   "nbconvert_exporter": "python",
   "pygments_lexer": "ipython3",
   "version": "3.12.2"
  }
 },
 "nbformat": 4,
 "nbformat_minor": 2
}
