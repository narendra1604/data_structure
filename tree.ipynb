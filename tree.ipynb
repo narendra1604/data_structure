{
 "cells": [
  {
   "cell_type": "code",
   "execution_count": null,
   "metadata": {},
   "outputs": [],
   "source": [
    "Tree: it represents the relationship b/w different node\n",
    "collection of entities callled node\n",
    "nodes are connected via edges\n",
    "eg:\n",
    "hieraical:family, Organization"
   ]
  },
  {
   "cell_type": "code",
   "execution_count": null,
   "metadata": {},
   "outputs": [],
   "source": [
    "characterstics:\n",
    "edges = n-1\n",
    "parent can contain multiple childs\n",
    "tree is a recursive data structure--eg: subtree\n",
    "terms:\n",
    "Degree--total no.of childrens in a node\\\n",
    "Degree of tree --the node which contain highest degree\n",
    "Level -- its start from 0 andd increase by 1\n",
    "height of node -- we need to find edges from the leaf node to the mention node\n",
    "Depth of node: total no.of edges from rootnode to mention node\n",
    "Depth of tree-- rootnode to the leaf node\n",
    "\n"
   ]
  },
  {
   "cell_type": "code",
   "execution_count": null,
   "metadata": {},
   "outputs": [],
   "source": [
    "general Tree:\n",
    "    each node can have any no of child nodes\n",
    "    \n",
    "Bineary trees:\n",
    "    every node can have atmost 2 children\n",
    "types:\n",
    "    full bt\n",
    "    complete bt\n",
    "    perfect bt\n",
    "    balanced bt\n",
    "    pathalogocal or degenerate bt\n",
    "    "
   ]
  },
  {
   "cell_type": "code",
   "execution_count": null,
   "metadata": {},
   "outputs": [],
   "source": [
    "Full Binary Tree:\n",
    "1)every node can have 0, 2 child nodes\n",
    "completee bt:\n",
    "all the levels except last level-->completli filles with nodes\n",
    "2)last-->c.f\n",
    "       -->left to right"
   ]
  },
  {
   "cell_type": "code",
   "execution_count": null,
   "metadata": {},
   "outputs": [],
   "source": [
    "perfect bt: which all the internal nodes contain 2 children and all the leaf node are present in the same level\n",
    "balanced bt: which height of left sub tree and right subtree are less than 1 \n",
    "            diff = height of left subtree - height of right tree\n",
    "pathalogical bt: every parent node contain only one child node\n",
    "    "
   ]
  },
  {
   "cell_type": "code",
   "execution_count": null,
   "metadata": {},
   "outputs": [],
   "source": [
    "BST:\n",
    ">the bst is a bt with the following properties\n",
    ">the lest subtree of a node contains only nodes with keys lesser than nodes keys\n",
    ">the right subtree of a node contains only nnodes with keys greater than node keys\n",
    ">the left subtree and right subtree each must also be a BST"
   ]
  },
  {
   "cell_type": "code",
   "execution_count": null,
   "metadata": {},
   "outputs": [],
   "source": [
    "Duplicate values are not allowed\n",
    "left side"
   ]
  },
  {
   "cell_type": "code",
   "execution_count": null,
   "metadata": {},
   "outputs": [],
   "source": [
    "SEARCH:\n",
    " bst--->empty : give value is present\n",
    " root == given value --> present\n",
    " gv < root node --> left st\n",
    " gv > root node --> right st   "
   ]
  },
  {
   "cell_type": "code",
   "execution_count": null,
   "metadata": {},
   "outputs": [],
   "source": [
    "INSERTION:\n",
    "bst --> empty : insert newnode\n",
    "new node key < root key --> left\n",
    "new node key > root key --> right\n"
   ]
  },
  {
   "cell_type": "code",
   "execution_count": null,
   "metadata": {},
   "outputs": [],
   "source": [
    "DELETION:\n",
    "Given node --> BST --> delete\n",
    "else print ( \"\")\n",
    "\n",
    "1) bst --> empty --> yes --> can`t delete\n",
    "2) SEARCH mentioned key\n",
    "3) Delete node\n",
    "\n",
    "problems:\n",
    "    Node may contain 0,1,2 child nodes\n",
    "\n",
    "node --> 0 children(can directly del)\n",
    "\n",
    "node --> 1 child (make the child as parent)\n",
    "\n",
    "node --> 2 childs( make one child as parent)"
   ]
  },
  {
   "cell_type": "code",
   "execution_count": null,
   "metadata": {},
   "outputs": [],
   "source": [
    "TRAVERVSING(pre-order):\n",
    "    visit the root\n",
    "    then traverse through left subtree to right subtree \n",
    "    "
   ]
  },
  {
   "cell_type": "code",
   "execution_count": null,
   "metadata": {},
   "outputs": [],
   "source": [
    "traversing(inorder):\n",
    "    left subtree\n",
    "    rootnode\n",
    "    right sub tree\n",
    "(we get keys or values in acsending order)"
   ]
  },
  {
   "cell_type": "code",
   "execution_count": null,
   "metadata": {},
   "outputs": [],
   "source": [
    "traversing(post order):\n",
    "    left subtree\n",
    "    right subtree\n",
    "    root\n",
    "    "
   ]
  },
  {
   "cell_type": "code",
   "execution_count": null,
   "metadata": {},
   "outputs": [],
   "source": [
    "traversing(level order):\n",
    "    visiting the nodes via level"
   ]
  },
  {
   "cell_type": "code",
   "execution_count": null,
   "metadata": {},
   "outputs": [],
   "source": [
    "min & max:\n",
    "smaller value is present in the left subtree\n",
    "larger value is present  the right subtree"
   ]
  },
  {
   "cell_type": "code",
   "execution_count": null,
   "metadata": {},
   "outputs": [],
   "source": [
    "implementaion:\n",
    "    key/data\n",
    "    left child\n",
    "    right child"
   ]
  },
  {
   "cell_type": "code",
   "execution_count": null,
   "metadata": {},
   "outputs": [],
   "source": [
    "insetion:\n",
    "    tree is empty or not\n",
    "    position of node(left or right subtree)\n",
    "    "
   ]
  },
  {
   "cell_type": "code",
   "execution_count": 21,
   "metadata": {},
   "outputs": [
    {
     "name": "stdout",
     "output_type": "stream",
     "text": [
      "4 1 2 3 5 6 7 8 \n",
      "3 -- 2 -- 1 -- 8 -- 7 -- 6 -- 5 -- \n",
      "smallest: 1\n",
      "\n",
      "\n",
      "largest: 8\n"
     ]
    },
    {
     "ename": "",
     "evalue": "",
     "output_type": "error",
     "traceback": [
      "\u001b[1;31mThe Kernel crashed while executing code in the current cell or a previous cell. \n",
      "\u001b[1;31mPlease review the code in the cell(s) to identify a possible cause of the failure. \n",
      "\u001b[1;31mClick <a href='https://aka.ms/vscodeJupyterKernelCrash'>here</a> for more info. \n",
      "\u001b[1;31mView Jupyter <a href='command:jupyter.viewOutput'>log</a> for further details."
     ]
    }
   ],
   "source": [
    "class bst:\n",
    "    def __init__(self, key): #self represents the object itself\n",
    "        self.key = key\n",
    "        self.lchild = None\n",
    "        self.rchild = None\n",
    "        \n",
    "    def insert(self, data):\n",
    "        if self.key is None:\n",
    "            self.key = data\n",
    "            return\n",
    "        if self.key == data:#to ignore the data\n",
    "            return\n",
    "        if data < self.key:\n",
    "            if self.lchild:#lchild is present\n",
    "                self.lchild.insert(data)\n",
    "            else:#lchild is not present\n",
    "                self.lchild = bst(data)\n",
    "        else:\n",
    "            if self.rchild:\n",
    "                self.rchild.insert(data)\n",
    "            else:\n",
    "                self.rchild = bst(data)\n",
    "    \n",
    "    def search(self, data):\n",
    "            if self.key== data:\n",
    "                print(\"NOde is Found\")\n",
    "                return\n",
    "            if data < self.key:\n",
    "                if self.lchild:\n",
    "                    self.lchild.search(data)\n",
    "                else:\n",
    "                    print(\"Node is not present in the tree!\")\n",
    "            else:\n",
    "                if self.rchild:\n",
    "                    self.rchild.search(data)\n",
    "                else:\n",
    "                    print(\"Node is not present in the tree!\")\n",
    "    def pre(self):\n",
    "        # print(self.key, end=\" \")\n",
    "        print(self.key, end=\" \")\n",
    "        if self.lchild:\n",
    "            self.lchild.pre()\n",
    "        if self.rchild:\n",
    "            self.rchild.pre()\n",
    "    \n",
    "    def inorder(self):\n",
    "        if self.lchild:\n",
    "            self.lchild.inorder()\n",
    "        print(self.key, \"-\", end=\" \")\n",
    "        \n",
    "        if self.rchild:\n",
    "            self.rchild.inorder()\n",
    "    \n",
    "    def porder(self):\n",
    "        if self.lchild:\n",
    "            self.lchild.porder()\n",
    "        if self.rchild:\n",
    "            self.rchild.porder()\n",
    "        print(self.key, \"--\", end=\" \")\n",
    "    \n",
    "    def delete(self, data):\n",
    "        if self.key is None:\n",
    "            print(\"tree is empty\")\n",
    "            return\n",
    "        if data < self.key:\n",
    "            if self.lchild:\n",
    "                self.lchild = self.lchild.delete(data)\n",
    "            else:\n",
    "                print(\"Given node is not present\")\n",
    "        elif data > self.key:\n",
    "            if self.rchild:\n",
    "                self.rchild = self.rchild.delete(data)\n",
    "        else:\n",
    "            if self.lchild is None:\n",
    "                temp = self.rchild\n",
    "                self = None\n",
    "                return temp\n",
    "            if self.rchild is None:\n",
    "                temp = self.lchild\n",
    "                self = None\n",
    "                return temp\n",
    "            node = self.rchild\n",
    "            while node.lchild:\n",
    "                node = node.lchild\n",
    "            self.key = node.key\n",
    "            self.rchild = self.rchild.delete(node.key)\n",
    "        return self\n",
    "    def min(self):\n",
    "        curent = self\n",
    "        while curent.lchild:\n",
    "            curent = curent.lchild\n",
    "        print(\"smallest:\", curent.key)\n",
    "    def max(self):\n",
    "        current =self\n",
    "        while current.rchild:\n",
    "            current =current.rchild\n",
    "        print(\"largest:\", current.key)\n",
    "            \n",
    "                \n",
    "            \n",
    "            \n",
    "            \n",
    "        \n",
    "        \n",
    "                \n",
    "                \n",
    "            \n",
    "            \n",
    "\n",
    "l = bst(4)\n",
    "# l.insert(7)\n",
    "ll = [1, 2, 3, 4, 5, 6, 7, 8]\n",
    "for i in ll:\n",
    "    l.insert(i)\n",
    "l.pre()\n",
    "# print()\n",
    "# l.inorder()\n",
    "# print()\n",
    "# l.porder()\n",
    "l.delete(4)\n",
    "print()\n",
    "l.porder()\n",
    "print()\n",
    "\n",
    "l.min()\n",
    "print()\n",
    "\n",
    "print()\n",
    "\n",
    "l.max()\n",
    "\n",
    "# l.search()\n",
    "# print(l.key)\n",
    "# print(l.lchild)\n",
    "# print(l.rchild)\n",
    "\n",
    "# l.lchild = bst(9)\n",
    "# print(l.key)\n",
    "# print(l.lchild.lchild)\n",
    "# print(l.lchild.rchild)\n",
    "\n"
   ]
  },
  {
   "cell_type": "code",
   "execution_count": null,
   "metadata": {},
   "outputs": [],
   "source": []
  }
 ],
 "metadata": {
  "kernelspec": {
   "display_name": "Python 3",
   "language": "python",
   "name": "python3"
  },
  "language_info": {
   "codemirror_mode": {
    "name": "ipython",
    "version": 3
   },
   "file_extension": ".py",
   "mimetype": "text/x-python",
   "name": "python",
   "nbconvert_exporter": "python",
   "pygments_lexer": "ipython3",
   "version": "3.12.2"
  }
 },
 "nbformat": 4,
 "nbformat_minor": 2
}
