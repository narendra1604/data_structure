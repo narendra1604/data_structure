{
 "cells": [
  {
   "cell_type": "code",
   "execution_count": null,
   "metadata": {},
   "outputs": [],
   "source": [
    "binary heap:\n",
    "    complete binary tree which satisfies the heap properties"
   ]
  },
  {
   "cell_type": "code",
   "execution_count": null,
   "metadata": {},
   "outputs": [],
   "source": [
    "heap properties:\n",
    "    property  of a node in which key of evry parent node neeed to be lesser than or equal to or greater than or equal to the child nodes key\n",
    "    "
   ]
  },
  {
   "cell_type": "code",
   "execution_count": null,
   "metadata": {},
   "outputs": [],
   "source": [
    "min heap:\n",
    "    complete bt, wher the of every parent node is less than or equal to child node\n",
    "max heap:\n",
    "    complete bt, where the key of every parent node is greater than or equal to child node\n",
    "     "
   ]
  },
  {
   "cell_type": "code",
   "execution_count": null,
   "metadata": {},
   "outputs": [],
   "source": [
    "wheree do we use:\n",
    "    to implement prority queue\n",
    "    in heap sort algorithm\n",
    "    to find kth laargest or smallest ele in list of members"
   ]
  },
  {
   "cell_type": "code",
   "execution_count": null,
   "metadata": {},
   "outputs": [],
   "source": [
    "operations:\n",
    "    heapify : it is a process to rearrange the ele of the heap inorder to maintain the heap property.\n",
    "    it make sure that every node of tree follows heap property\n",
    "    it is also used to create bineary heap from a complete binary tree\n",
    "1) insert operation\n",
    "2) delete opeartion\n",
    "3) while creating a binary heap from given array\n",
    "4)heapify_up(bottom_up)\n",
    "5)heapify_down(top_down)\n",
    "\n",
    "     "
   ]
  },
  {
   "cell_type": "code",
   "execution_count": null,
   "metadata": {},
   "outputs": [],
   "source": [
    "inserion:\n",
    "    inserting a newnode to binary heap by maintaining its properties\n",
    "1)add the new node to first open spot available in the lower level\n",
    "2)Heapify the new_node"
   ]
  },
  {
   "cell_type": "code",
   "execution_count": null,
   "metadata": {},
   "outputs": [],
   "source": [
    "deletion:\n",
    "    removing the node from the binary heap by maintaining its properties\n",
    "1)Swap the node you want to delete with the last node\n",
    "2)delete the last node\n",
    "3)heapify the last node which is now placed in the delete node position"
   ]
  },
  {
   "cell_type": "code",
   "execution_count": null,
   "metadata": {},
   "outputs": [],
   "source": [
    "williams created the bt\n",
    "2nd method:\n",
    "    first create complete binary tree using given list of numbers\n",
    "    then start heapifying tree: startfrom last internal node"
   ]
  },
  {
   "cell_type": "code",
   "execution_count": null,
   "metadata": {},
   "outputs": [],
   "source": [
    "# heap queue module:(heapq)\n",
    "# heapq.heappush(heap, iteam)#push items into heap by maintaining its properties\n",
    "import heapq\n",
    "heap = []\n",
    "heapq.heappush(heap, 10)\n",
    "heapq.heappush(heap, 100)\n",
    "heapq.heappop(heap)\n",
    "\n",
    "#min\n",
    "import heapq\n",
    "list1 = [1, 3, 5, 2, 4, 6]\n",
    "heapq.heapify(list1)\n",
    "list1\n",
    "\n",
    "list1.heappushpop(list1, 89)\n",
    "list1\n",
    "\n",
    "heapq.heapreplace(list1, 100)\n",
    "list1\n",
    "\n",
    "heapq.nsmallest(2, list1)\n",
    "\n",
    "heapq.nlargest(3, list1)\n",
    "\n",
    "\n"
   ]
  },
  {
   "cell_type": "code",
   "execution_count": 2,
   "metadata": {},
   "outputs": [
    {
     "name": "stdout",
     "output_type": "stream",
     "text": [
      "[(1, 'ria'), (2, 'sia'), (3, 'gia')]\n",
      "(1, 'ria')\n",
      "(2, 'sia')\n",
      "(3, 'gia')\n"
     ]
    }
   ],
   "source": [
    "#priority\n",
    "\n",
    "import heapq\n",
    "list1 = [(1, \"ria\"), (2, \"sia\"), (3, \"gia\")]\n",
    "heapq.heapify(list1)\n",
    "print(list1)\n",
    "\n",
    "for i in range(len(list1)):\n",
    "    print(heapq.heappop(list1))\n"
   ]
  },
  {
   "cell_type": "code",
   "execution_count": null,
   "metadata": {},
   "outputs": [],
   "source": []
  }
 ],
 "metadata": {
  "kernelspec": {
   "display_name": "Python 3",
   "language": "python",
   "name": "python3"
  },
  "language_info": {
   "codemirror_mode": {
    "name": "ipython",
    "version": 3
   },
   "file_extension": ".py",
   "mimetype": "text/x-python",
   "name": "python",
   "nbconvert_exporter": "python",
   "pygments_lexer": "ipython3",
   "version": "3.12.2"
  }
 },
 "nbformat": 4,
 "nbformat_minor": 2
}
