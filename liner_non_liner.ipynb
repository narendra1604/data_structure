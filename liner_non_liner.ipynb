{
 "cells": [
  {
   "cell_type": "code",
   "execution_count": null,
   "metadata": {},
   "outputs": [],
   "source": [
    "linear ds:if data is arranged linearly it is linear ds\n",
    "eg_\n",
    "stack\n",
    "qqueue\n",
    "LL\n"
   ]
  },
  {
   "cell_type": "code",
   "execution_count": null,
   "metadata": {},
   "outputs": [],
   "source": [
    "non linear: if data is not arrenged in a sequence is called non-linearly\n",
    "eg:\n",
    "Tree\n",
    "Graph"
   ]
  }
 ],
 "metadata": {
  "language_info": {
   "name": "python"
  }
 },
 "nbformat": 4,
 "nbformat_minor": 2
}
